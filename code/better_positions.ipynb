{
 "cells": [
  {
   "cell_type": "markdown",
   "metadata": {},
   "source": [
    "# Better position estimates\n",
    "\n",
    "A major issue with the current version of positions estimates is two fold:\n",
    "\n",
    "- Positions are \"blocky\" in the literal sense: Fish seem to follow square paths, which is not realistic.\n",
    "- Edges distort position estimates, making them appear \"rounded off\" in the corners.\n",
    "\n",
    "The \"blockyness\" could be a consequence of the combination of a low temporal resolution with a low number of electrodes for triangulation (4-6). The current position sampling rate is 3Hz. If the fish moves between two samples and another electrode becomes one of the ones with highest power, the switch to the eletrode could result in a \"jump\" of the position estimate in 3 ways (for a square grid): Perfectly horizontal, vertical or in 45 deg. diagonal. This is what we observe in the plot below.\n",
    "\n",
    "The warping in the edges is a result of the fact that there are no electrodes \"outside of the grid\" to weight a position estimate by. In the cases where a fish in in an endge of the grid, the only electrodes that are there to weight the spatial weighted mean are towards the center, artifically pulling the position estimate towards the center. The more electrodes used for triangulation, the more circular is the pointcloud of position estimates.\n",
    "\n",
    "So we can just reduce the number of electrodes to weight the spatial weighted average? Yes, but this increases the \"blockyness\". In order to fix this mess, we need 2 things:\n",
    "\n",
    "1. A higher temporal resolution of fish tracking\n",
    "2. Differential weighting of edge, particularly corner electrodes\n",
    "\n",
    "To archieve **1**, I will use the frequency tracks for a single fish from the wavetracker, resample it to a finer \n",
    "\n",
    "![fig](fig.svg)"
   ]
  },
  {
   "cell_type": "code",
   "execution_count": null,
   "metadata": {},
   "outputs": [],
   "source": []
  }
 ],
 "metadata": {
  "language_info": {
   "name": "python"
  },
  "orig_nbformat": 4
 },
 "nbformat": 4,
 "nbformat_minor": 2
}
